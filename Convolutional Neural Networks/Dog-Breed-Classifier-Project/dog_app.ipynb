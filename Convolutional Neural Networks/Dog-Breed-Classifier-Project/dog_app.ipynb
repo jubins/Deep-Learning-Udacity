{
 "cells": [
  {
   "cell_type": "markdown",
   "metadata": {},
   "source": [
    "# Deep Learning Nanodegree\n",
    "\n",
    "## Convolutional Neural Networks\n",
    "\n",
    "## Project: Algorithm for a Dog Identification App \n",
    "\n",
    "#### Author: Jubin Soni\n",
    "#### GitHub: <a href='https://github.com/jubins/Deep-Learning-Udacity/blob/master/Convolutional%20Neural%20Networks/Dog-Breed-Classifier-Project/dog_app.ipynb'>Link</a>\n",
    "---\n",
    "### Overview\n",
    "\n",
    "In this project, I have built a convolutional neural network (CNN) that can classify the breed of dog from any user-supplied image. If the image of a dog is detected the algorithm will provide breed of that dog. If the image of a human is detected the algorithm will provide most resembling dog breed. This code is written using Keras and can be used as part of a mobile or web app, and the code can accept any user-supplied image as input.  The image below displays potential sample output of your finished project.\n",
    "\n",
    "![Sample Dog Output](images/sample_dog_output.png)\n",
    "\n",
    "The task of assigning breed to dogs from images is considered exceptionally challenging.  To see why, consider that *even a human* would have great difficulty in distinguishing between a Brittany and a Welsh Springer Spaniel.  \n",
    "\n",
    "Brittany | Welsh Springer Spaniel\n",
    "- | - \n",
    "<img src=\"images/Brittany_02625.jpg\" width=\"100\"> | <img src=\"images/Welsh_springer_spaniel_08203.jpg\" width=\"200\">\n",
    "\n",
    "It is not difficult to find other dog breed pairs with minimal inter-class variation (for instance, Curly-Coated Retrievers and American Water Spaniels).  \n",
    "\n",
    "Curly-Coated Retriever | American Water Spaniel\n",
    "- | -\n",
    "<img src=\"images/Curly-coated_retriever_03896.jpg\" width=\"200\"> | <img src=\"images/American_water_spaniel_00648.jpg\" width=\"200\">\n",
    "\n",
    "Likewise, recall that labradors come in yellow, chocolate, and black.  Your vision-based algorithm will have to conquer this high intra-class variation to determine how to classify all of these different shades as the same breed.  \n",
    "\n",
    "Yellow Labrador | Chocolate Labrador | Black Labrador\n",
    "- | -\n",
    "<img src=\"images/Labrador_retriever_06457.jpg\" width=\"150\"> | <img src=\"images/Labrador_retriever_06455.jpg\" width=\"240\"> | <img src=\"images/Labrador_retriever_06449.jpg\" width=\"220\">\n",
    "\n",
    "Also to mention that random chance presents an exceptionally low bar: setting aside the fact that the classes are slightly imabalanced, a random guess will provide a correct answer roughly 1 in 133 times, which corresponds to an accuracy of less than 1%.  \n",
    "\n",
    "### Dependencies\n",
    "\n",
    "In this project I have mainly used Keras and Python 3. Entire instructions on setting up your environment and datasets used in this project can be found under the `README.md` file.\n",
    "\n",
    "### Outline\n",
    "\n",
    "The notebook is broken into separate steps.\n",
    "\n",
    "* [Step 0](#step0): Import Datasets\n",
    "* [Step 1](#step1): Detect Humans\n",
    "* [Step 2](#step2): Detect Dogs\n",
    "* [Step 3](#step3): Create a CNN to Classify Dog Breeds (from Scratch)\n",
    "* [Step 4](#step4): Use a CNN to Classify Dog Breeds (using Transfer Learning)\n",
    "* [Step 5](#step5): Create a CNN to Classify Dog Breeds (using Transfer Learning)\n",
    "* [Step 6](#step6): Write your Algorithm\n",
    "* [Step 7](#step7): Test Your Algorithm\n",
    "\n",
    "---\n",
    "<a id='step0'></a>\n",
    "## Step 0: Import Datasets\n",
    "\n",
    "### Import Dog Dataset\n",
    "\n",
    "In the code cell below, we import a dataset of dog images.  We populate a few variables through the use of the `load_files` function from the scikit-learn library:\n",
    "- `train_files`, `valid_files`, `test_files` - numpy arrays containing file paths to images\n",
    "- `train_targets`, `valid_targets`, `test_targets` - numpy arrays containing onehot-encoded classification labels \n",
    "- `dog_names` - list of string-valued dog breed names for translating labels"
   ]
  },
  {
   "cell_type": "code",
   "execution_count": 106,
   "metadata": {},
   "outputs": [
    {
     "name": "stdout",
     "output_type": "stream",
     "text": [
      "There are 133 total dog categories.\n",
      "There are 8351 total dog images.\n",
      "\n",
      "There are 6680 training dog images.\n",
      "There are 835 validation dog images.\n",
      "There are 836 test dog images.\n"
     ]
    }
   ],
   "source": [
    "from sklearn.datasets import load_files       \n",
    "from keras.utils import np_utils\n",
    "import numpy as np\n",
    "from glob import glob\n",
    "\n",
    "# define function to load train, test, and validation datasets\n",
    "def load_dataset(path):\n",
    "    data = load_files(path)\n",
    "    dog_files = np.array(data['filenames'])\n",
    "    dog_targets = np_utils.to_categorical(np.array(data['target']), 133)\n",
    "    return dog_files, dog_targets\n",
    "\n",
    "# load train, test, and validation datasets\n",
    "train_files, train_targets = load_dataset('dogImages/train')\n",
    "valid_files, valid_targets = load_dataset('dogImages/valid')\n",
    "test_files, test_targets = load_dataset('dogImages/test')\n",
    "\n",
    "# load list of dog names\n",
    "dog_names = [item[20:-1] for item in sorted(glob(\"dogImages/train/*/\"))]\n",
    "\n",
    "# print statistics about the dataset\n",
    "print('There are %d total dog categories.' % len(dog_names))\n",
    "print('There are %s total dog images.\\n' % len(np.hstack([train_files, valid_files, test_files])))\n",
    "print('There are %d training dog images.' % len(train_files))\n",
    "print('There are %d validation dog images.' % len(valid_files))\n",
    "print('There are %d test dog images.'% len(test_files))"
   ]
  },
  {
   "cell_type": "markdown",
   "metadata": {},
   "source": [
    "### Import Human Dataset\n",
    "\n",
    "In the code cell below, we import a dataset of human images, where the file paths are stored in the numpy array `human_files`."
   ]
  },
  {
   "cell_type": "code",
   "execution_count": 107,
   "metadata": {},
   "outputs": [
    {
     "name": "stdout",
     "output_type": "stream",
     "text": [
      "There are 13233 total human images.\n"
     ]
    }
   ],
   "source": [
    "import random\n",
    "random.seed(8675309)\n",
    "\n",
    "# load filenames in shuffled human dataset\n",
    "human_files = np.array(glob(\"lfw/*/*\"))\n",
    "random.shuffle(human_files)\n",
    "\n",
    "# print statistics about the dataset\n",
    "print('There are %d total human images.' % len(human_files))"
   ]
  },
  {
   "cell_type": "markdown",
   "metadata": {},
   "source": [
    "---\n",
    "<a id='step1'></a>\n",
    "## Step 1: Detect Humans\n",
    "\n",
    "I have used OpenCV's implementation of [Haar feature-based cascade classifiers](http://docs.opencv.org/trunk/d7/d8b/tutorial_py_face_detection.html) to detect human faces in images.  OpenCV provides many pre-trained face detectors, stored as XML files on [github](https://github.com/opencv/opencv/tree/master/data/haarcascades).  We have downloaded one of these detectors and stored it in the `haarcascades` directory.\n",
    "\n",
    "In the next code cell, this detector is used to find human faces in a sample image."
   ]
  },
  {
   "cell_type": "code",
   "execution_count": 44,
   "metadata": {},
   "outputs": [
    {
     "name": "stdout",
     "output_type": "stream",
     "text": [
      "Number of faces detected: 1\n"
     ]
    },
    {
     "data": {
      "image/png": "[encoded data removed]",
      "text/plain": [
       "<matplotlib.figure.Figure at 0x7f2330b0acc0>"
      ]
     },
     "metadata": {},
     "output_type": "display_data"
    }
   ],
   "source": [
    "import cv2                \n",
    "import matplotlib.pyplot as plt                        \n",
    "%matplotlib inline                               \n",
    "\n",
    "# extract pre-trained face detector\n",
    "face_cascade = cv2.CascadeClassifier('haarcascades/haarcascade_frontalface_alt.xml')\n",
    "\n",
    "# load color (BGR) image\n",
    "img = cv2.imread(human_files[5])\n",
    "# convert BGR image to grayscale\n",
    "gray = cv2.cvtColor(img, cv2.COLOR_BGR2GRAY)\n",
    "\n",
    "# find faces in image\n",
    "faces = face_cascade.detectMultiScale(gray)\n",
    "\n",
    "# print number of faces detected in the image\n",
    "print('Number of faces detected:', len(faces))\n",
    "\n",
    "# get bounding box for each detected face\n",
    "for (x,y,w,h) in faces:\n",
    "    # add bounding box to color image\n",
    "    cv2.rectangle(img,(x,y),(x+w,y+h),(255,0,0),2)\n",
    "    \n",
    "# convert BGR image to RGB for plotting\n",
    "cv_rgb = cv2.cvtColor(img, cv2.COLOR_BGR2RGB)\n",
    "\n",
    "# display the image, along with bounding box\n",
    "plt.imshow(cv_rgb)\n",
    "plt.show()"
   ]
  },
  {
   "cell_type": "markdown",
   "metadata": {},
   "source": [
    "Before using any of the face detectors, it is standard procedure to convert the images to grayscale.  The `detectMultiScale` function executes the classifier stored in `face_cascade` and takes the grayscale image as a parameter.  \n",
    "\n",
    "In the above code, `faces` is a numpy array of detected faces, where each row corresponds to a detected face.  Each detected face is a 1D array with four entries that specifies the bounding box of the detected face.  The first two entries in the array (extracted in the above code as `x` and `y`) specify the horizontal and vertical positions of the top left corner of the bounding box.  The last two entries in the array (extracted here as `w` and `h`) specify the width and height of the box.\n",
    "\n",
    "### Write a Human Face Detector\n",
    "\n",
    "We can use this procedure to write a function that returns `True` if a human face is detected in an image and `False` otherwise.  This function, aptly named `face_detector`, takes a string-valued file path to an image as input and appears in the code block below."
   ]
  },
  {
   "cell_type": "code",
   "execution_count": 53,
   "metadata": {},
   "outputs": [],
   "source": [
    "# returns \"True\" if face is detected in image stored at img_path\n",
    "def face_detector(img_path):\n",
    "    img = cv2.imread(img_path)\n",
    "    gray = cv2.cvtColor(img, cv2.COLOR_BGR2GRAY)\n",
    "    faces = face_cascade.detectMultiScale(gray)\n",
    "    return len(faces) > 0"
   ]
  },
  {
   "cell_type": "markdown",
   "metadata": {},
   "source": [
    "### Assessing the Human Face Detector Implemented in OpenCV"
   ]
  },
  {
   "cell_type": "code",
   "execution_count": 54,
   "metadata": {},
   "outputs": [
    {
     "name": "stdout",
     "output_type": "stream",
     "text": [
      "Percentage of humans correctly classified as people: 98.0%\n",
      "Percentage of dogs misclassified as people: 11.0%\n"
     ]
    }
   ],
   "source": [
    "## TODO: \n",
    "human_files_short = human_files[:100]\n",
    "dog_files_short = train_files[:100]\n",
    "# Do NOT modify the code above this line.\n",
    "\n",
    "#Test the performance of the face_detector algorithmon the images in human_files_short and dog_files_short.\n",
    "human_count = 0\n",
    "total = 0\n",
    "for img in human_files_short:\n",
    "    isPerson = face_detector(img)\n",
    "    if not isPerson:\n",
    "        human_count += 1\n",
    "        total = 100 - human_count\n",
    "    percentage = (total/len(human_files_short)) * 100\n",
    "print('Percentage of humans correctly classified as people: {}%'.format(percentage))\n",
    "\n",
    "dog_count = 0\n",
    "for img in dog_files_short:\n",
    "    isPerson = face_detector(img)\n",
    "    if isPerson:\n",
    "        dog_count += 1\n",
    "    percentage = (dog_count/len(dog_files_short)) * 100\n",
    "print('Percentage of dogs misclassified as people: {}%'.format(percentage))"
   ]
  },
  {
   "cell_type": "markdown",
   "metadata": {},
   "source": [
    "As we can see, the face detector isn't perfect as it finds human faces in 11% of the dog photos.\n",
    "\n",
    "Further, the technique we selected for face detection requires a clear view of a face (ie. doesn't perform well on scenarios and not practical). If we wanted better performance for a wider variety of photo conditions, we could build a CNN specifically for detecting human faces. The training data should include a diverse set of images from a wide variety of angles, lighting conditions, and partial obscurations (wearing a hat, hand in front of face, etc)."
   ]
  },
  {
   "cell_type": "markdown",
   "metadata": {},
   "source": [
    "---\n",
    "<a id='step2'></a>\n",
    "## Step 2: Detect Dogs\n",
    "\n",
    "In this section, we use a pre-trained [ResNet-50](http://ethereon.github.io/netscope/#/gist/db945b393d40bfa26006) model to detect dogs in images.  Our first line of code downloads the ResNet-50 model, along with weights that have been trained on [ImageNet](http://www.image-net.org/), a very large, very popular dataset used for image classification and other vision tasks.  ImageNet contains over 10 million URLs, each linking to an image containing an object from one of [1000 categories](https://gist.github.com/yrevar/942d3a0ac09ec9e5eb3a).  Given an image, this pre-trained ResNet-50 model returns a prediction (derived from the available categories in ImageNet) for the object that is contained in the image."
   ]
  },
  {
   "cell_type": "code",
   "execution_count": 56,
   "metadata": {},
   "outputs": [],
   "source": [
    "from keras.applications.resnet50 import ResNet50\n",
    "\n",
    "# define ResNet50 model\n",
    "ResNet50_model = ResNet50(weights='imagenet')"
   ]
  },
  {
   "cell_type": "markdown",
   "metadata": {},
   "source": [
    "### Pre-process the Data\n",
    "\n",
    "When using TensorFlow as backend, Keras CNNs require a 4D array (which we'll also refer to as a 4D tensor) as input, with shape\n",
    "\n",
    "$$\n",
    "(\\text{nb_samples}, \\text{rows}, \\text{columns}, \\text{channels}),\n",
    "$$\n",
    "\n",
    "where `nb_samples` corresponds to the total number of images (or samples), and `rows`, `columns`, and `channels` correspond to the number of rows, columns, and channels for each image, respectively.  \n",
    "\n",
    "The `path_to_tensor` function below takes a string-valued file path to a color image as input and returns a 4D tensor suitable for supplying to a Keras CNN.  The function first loads the image and resizes it to a square image that is $224 \\times 224$ pixels.  Next, the image is converted to an array, which is then resized to a 4D tensor.  In this case, since we are working with color images, each image has three channels.  Likewise, since we are processing a single image (or sample), the returned tensor will always have shape\n",
    "\n",
    "$$\n",
    "(1, 224, 224, 3).\n",
    "$$\n",
    "\n",
    "The `paths_to_tensor` function takes a numpy array of string-valued image paths as input and returns a 4D tensor with shape \n",
    "\n",
    "$$\n",
    "(\\text{nb_samples}, 224, 224, 3).\n",
    "$$\n",
    "\n",
    "Here, `nb_samples` is the number of samples, or number of images, in the supplied array of image paths.  It is best to think of `nb_samples` as the number of 3D tensors (where each 3D tensor corresponds to a different image) in your dataset!"
   ]
  },
  {
   "cell_type": "code",
   "execution_count": 8,
   "metadata": {},
   "outputs": [],
   "source": [
    "from keras.preprocessing import image                  \n",
    "from tqdm import tqdm\n",
    "\n",
    "def path_to_tensor(img_path):\n",
    "    # loads RGB image as PIL.Image.Image type\n",
    "    img = image.load_img(img_path, target_size=(224, 224))\n",
    "    # convert PIL.Image.Image type to 3D tensor with shape (224, 224, 3)\n",
    "    x = image.img_to_array(img)\n",
    "    # convert 3D tensor to 4D tensor with shape (1, 224, 224, 3) and return 4D tensor\n",
    "    return np.expand_dims(x, axis=0)\n",
    "\n",
    "def paths_to_tensor(img_paths):\n",
    "    list_of_tensors = [path_to_tensor(img_path) for img_path in tqdm(img_paths)]\n",
    "    return np.vstack(list_of_tensors)"
   ]
  },
  {
   "cell_type": "markdown",
   "metadata": {},
   "source": [
    "### Making Predictions with ResNet-50\n",
    "\n",
    "Getting the 4D tensor ready for ResNet-50, and for any other pre-trained model in Keras, requires some additional processing.  First, the RGB image is converted to BGR by reordering the channels.  All pre-trained models have the additional normalization step that the mean pixel (expressed in RGB as $[103.939, 116.779, 123.68]$ and calculated from all pixels in all images in ImageNet) must be subtracted from every pixel in each image.  This is implemented in the imported function `preprocess_input`.  If you're curious, you can check the code for `preprocess_input` [here](https://github.com/fchollet/keras/blob/master/keras/applications/imagenet_utils.py).\n",
    "\n",
    "Now that we have a way to format our image for supplying to ResNet-50, we are now ready to use the model to extract the predictions.  This is accomplished with the `predict` method, which returns an array whose $i$-th entry is the model's predicted probability that the image belongs to the $i$-th ImageNet category.  This is implemented in the `ResNet50_predict_labels` function below.\n",
    "\n",
    "By taking the argmax of the predicted probability vector, we obtain an integer corresponding to the model's predicted object class, which we can identify with an object category through the use of this [dictionary](https://gist.github.com/yrevar/942d3a0ac09ec9e5eb3a). "
   ]
  },
  {
   "cell_type": "code",
   "execution_count": 50,
   "metadata": {},
   "outputs": [],
   "source": [
    "from keras.applications.resnet50 import preprocess_input, decode_predictions\n",
    "\n",
    "def ResNet50_predict_labels(img_path):\n",
    "    # returns prediction vector for image located at img_path\n",
    "    img_tensor = path_to_tensor(img_path)\n",
    "    img = preprocess_input(img_tensor)\n",
    "    return np.argmax(ResNet50_model.predict(img))"
   ]
  },
  {
   "cell_type": "markdown",
   "metadata": {},
   "source": [
    "### Write a Dog Detector\n",
    "\n",
    "While looking at the [dictionary](https://gist.github.com/yrevar/942d3a0ac09ec9e5eb3a), you will notice that the categories corresponding to dogs appear in an uninterrupted sequence and correspond to dictionary keys 151-268, inclusive, to include all categories from `'Chihuahua'` to `'Mexican hairless'`.  Thus, in order to check to see if an image is predicted to contain a dog by the pre-trained ResNet-50 model, we need only check if the `ResNet50_predict_labels` function above returns a value between 151 and 268 (inclusive).\n",
    "\n",
    "We use these ideas to complete the `dog_detector` function below, which returns `True` if a dog is detected in an image (and `False` if not)."
   ]
  },
  {
   "cell_type": "code",
   "execution_count": 51,
   "metadata": {},
   "outputs": [],
   "source": [
    "### returns \"True\" if a dog is detected in the image stored at img_path\n",
    "def dog_detector(img_path):\n",
    "    prediction = ResNet50_predict_labels(img_path)\n",
    "    return ((prediction <= 268) & (prediction >= 151)) "
   ]
  },
  {
   "cell_type": "markdown",
   "metadata": {},
   "source": [
    "### Assessing the Dog Detector implemented using CNN ResNet50"
   ]
  },
  {
   "cell_type": "code",
   "execution_count": 57,
   "metadata": {},
   "outputs": [
    {
     "name": "stdout",
     "output_type": "stream",
     "text": [
      "Percentage of humans misclassified as dogs:: 1.0%\n",
      "Percentage of dogs correctly classified as dogs: 100.0%\n"
     ]
    }
   ],
   "source": [
    "### TODO: Test the performance of the dog_detector function\n",
    "### on the images in human_files_short and dog_files_short.\n",
    "human_count = 0    \n",
    "for img in human_files_short:\n",
    "    isDog = dog_detector(img)\n",
    "    if isDog:\n",
    "        human_count += 1\n",
    "    percentage = (human_count/len(human_files_short)) * 100\n",
    "print('Percentage of humans misclassified as dogs:: {}%'.format(percentage))\n",
    "\n",
    "dog_count = 0\n",
    "for img in dog_files_short:\n",
    "    isDog = dog_detector(img)\n",
    "    if isDog:\n",
    "        dog_count += 1\n",
    "    percentage = (dog_count/len(dog_files_short)) * 100\n",
    "print('Percentage of dogs correctly classified as dogs: {}%'.format(percentage))"
   ]
  },
  {
   "cell_type": "markdown",
   "metadata": {},
   "source": [
    "We see a huge difference that in correct classification of human faces here: with CNN we get 100% of dogs classified as dogs and just 1% humans were misclassfied as dogs, as compared to 11% dogs misclassified as humans by OpenCV.\n",
    "\n",
    "Hence, in the below step 3, I will create a CNN using Keras that classifies dog breeds from scratch. In Step 5 of this notebook, I will use transfer learning to create a CNN that attains greatly improved accuracy."
   ]
  },
  {
   "cell_type": "markdown",
   "metadata": {},
   "source": [
    "---\n",
    "<a id='step3'></a>\n",
    "## Step 3: Create a CNN to Classify Dog Breeds (from Scratch)\n",
    "\n",
    "\n",
    "### Pre-process the Data\n",
    "\n",
    "We rescale the images by dividing every pixel in every image by 255."
   ]
  },
  {
   "cell_type": "code",
   "execution_count": 12,
   "metadata": {},
   "outputs": [
    {
     "name": "stderr",
     "output_type": "stream",
     "text": [
      "100%|██████████| 6680/6680 [00:49<00:00, 134.15it/s]\n",
      "100%|██████████| 835/835 [00:05<00:00, 148.88it/s]\n",
      "100%|██████████| 836/836 [00:05<00:00, 149.83it/s]\n"
     ]
    }
   ],
   "source": [
    "from PIL import ImageFile                            \n",
    "ImageFile.LOAD_TRUNCATED_IMAGES = True                 \n",
    "\n",
    "# pre-process the data for Keras\n",
    "train_tensors = paths_to_tensor(train_files).astype('float32')/255\n",
    "valid_tensors = paths_to_tensor(valid_files).astype('float32')/255\n",
    "test_tensors = paths_to_tensor(test_files).astype('float32')/255"
   ]
  },
  {
   "cell_type": "markdown",
   "metadata": {},
   "source": [
    "### Model Architecture\n",
    "\n",
    "In this step, I have first done image augmentation by flipping, rotating the umages horizontally and vertically using the Keras ImageDataGenerator, after all the training images have been scaled to a set pixel 255.This way there will be more representative examples for CNN to learn from. Then in my model architechture I have defined the BatchNormalization input shape to (224,244,3), used 5 Conv2D layers as hidden layers and after each Conv2D layer I have used MaxPooling2D layer and BatchNormalization respectively. This way I have avoided overfitting as well as any performance efficiency issue while givng the model enough information/image data to train from.\n",
    "\n",
    "Overall, the model trains relatively fast on CPU and attains >1% test accuracy in 5 epochs but in my case I have used Amazon AWS GPU on EC2 instance.\n",
    "\n",
    "![Sample CNN](images/sample_cnn.png)\n",
    "\n",
    "### Image Augmentation"
   ]
  },
  {
   "cell_type": "code",
   "execution_count": 62,
   "metadata": {},
   "outputs": [],
   "source": [
    "from keras.preprocessing.image import ImageDataGenerator\n",
    "\n",
    "# create and configure augmented image generator\n",
    "datagen = ImageDataGenerator(\n",
    "    width_shift_range=0.1,  # randomly shift images horizontally (10% of total width)\n",
    "    height_shift_range=0.1,  # randomly shift images vertically (10% of total height)\n",
    "    horizontal_flip=True) # randomly flip images horizontally\n",
    "\n",
    "# fit augmented image generator on data\n",
    "datagen.fit(train_tensors)"
   ]
  },
  {
   "cell_type": "markdown",
   "metadata": {},
   "source": [
    "### Defining my own CNN Architecture"
   ]
  },
  {
   "cell_type": "code",
   "execution_count": 63,
   "metadata": {},
   "outputs": [
    {
     "name": "stdout",
     "output_type": "stream",
     "text": [
      "_________________________________________________________________\n",
      "Layer (type)                 Output Shape              Param #   \n",
      "=================================================================\n",
      "batch_normalization_7 (Batch (None, 224, 224, 3)       12        \n",
      "_________________________________________________________________\n",
      "conv2d_9 (Conv2D)            (None, 222, 222, 16)      448       \n",
      "_________________________________________________________________\n",
      "max_pooling2d_15 (MaxPooling (None, 111, 111, 16)      0         \n",
      "_________________________________________________________________\n",
      "batch_normalization_8 (Batch (None, 111, 111, 16)      64        \n",
      "_________________________________________________________________\n",
      "conv2d_10 (Conv2D)           (None, 109, 109, 32)      4640      \n",
      "_________________________________________________________________\n",
      "max_pooling2d_16 (MaxPooling (None, 54, 54, 32)        0         \n",
      "_________________________________________________________________\n",
      "batch_normalization_9 (Batch (None, 54, 54, 32)        128       \n",
      "_________________________________________________________________\n",
      "conv2d_11 (Conv2D)           (None, 52, 52, 64)        18496     \n",
      "_________________________________________________________________\n",
      "max_pooling2d_17 (MaxPooling (None, 26, 26, 64)        0         \n",
      "_________________________________________________________________\n",
      "batch_normalization_10 (Batc (None, 26, 26, 64)        256       \n",
      "_________________________________________________________________\n",
      "conv2d_12 (Conv2D)           (None, 24, 24, 128)       73856     \n",
      "_________________________________________________________________\n",
      "max_pooling2d_18 (MaxPooling (None, 12, 12, 128)       0         \n",
      "_________________________________________________________________\n",
      "batch_normalization_11 (Batc (None, 12, 12, 128)       512       \n",
      "_________________________________________________________________\n",
      "conv2d_13 (Conv2D)           (None, 10, 10, 256)       295168    \n",
      "_________________________________________________________________\n",
      "max_pooling2d_19 (MaxPooling (None, 5, 5, 256)         0         \n",
      "_________________________________________________________________\n",
      "batch_normalization_12 (Batc (None, 5, 5, 256)         1024      \n",
      "_________________________________________________________________\n",
      "global_average_pooling2d_4 ( (None, 256)               0         \n",
      "_________________________________________________________________\n",
      "dense_6 (Dense)              (None, 133)               34181     \n",
      "=================================================================\n",
      "Total params: 428,785\n",
      "Trainable params: 427,787\n",
      "Non-trainable params: 998\n",
      "_________________________________________________________________\n"
     ]
    }
   ],
   "source": [
    "from keras.layers import Conv2D, MaxPooling2D, GlobalAveragePooling2D\n",
    "from keras.layers import Dropout, Flatten, Dense, Activation\n",
    "from keras.models import Sequential\n",
    "from keras.layers.normalization import BatchNormalization\n",
    "\n",
    "model = Sequential()\n",
    "model.add(BatchNormalization(input_shape=(224, 224, 3)))\n",
    "model.add(Conv2D(filters=16, kernel_size=3, kernel_initializer='he_normal', activation='relu'))\n",
    "model.add(MaxPooling2D(pool_size=2))\n",
    "model.add(BatchNormalization())\n",
    "\n",
    "model.add(Conv2D(filters=32, kernel_size=3, kernel_initializer='he_normal', activation='relu'))\n",
    "model.add(MaxPooling2D(pool_size=2))\n",
    "model.add(BatchNormalization())\n",
    "\n",
    "model.add(Conv2D(filters=64, kernel_size=3, kernel_initializer='he_normal', activation='relu'))\n",
    "model.add(MaxPooling2D(pool_size=2))\n",
    "model.add(BatchNormalization())\n",
    "\n",
    "model.add(Conv2D(filters=128, kernel_size=3, kernel_initializer='he_normal', activation='relu'))\n",
    "model.add(MaxPooling2D(pool_size=2))\n",
    "model.add(BatchNormalization())\n",
    "\n",
    "model.add(Conv2D(filters=256, kernel_size=3, kernel_initializer='he_normal', activation='relu'))\n",
    "model.add(MaxPooling2D(pool_size=2))\n",
    "model.add(BatchNormalization())\n",
    "\n",
    "model.add(GlobalAveragePooling2D())\n",
    "\n",
    "model.add(Dense(133, activation='softmax'))\n",
    "\n",
    "model.summary()"
   ]
  },
  {
   "cell_type": "markdown",
   "metadata": {},
   "source": [
    "### Compile the Model"
   ]
  },
  {
   "cell_type": "code",
   "execution_count": 64,
   "metadata": {},
   "outputs": [],
   "source": [
    "model.compile(optimizer='adam', loss='categorical_crossentropy', metrics=['accuracy'])"
   ]
  },
  {
   "cell_type": "markdown",
   "metadata": {},
   "source": [
    "### Train the Model\n",
    "\n",
    "We train the model in the code cell below and use checkpointing to save the model that attains the best validation loss.\n",
    "\n",
    "You are welcome to [augment the training data](https://blog.keras.io/building-powerful-image-classification-models-using-very-little-data.html), but this is not a requirement. "
   ]
  },
  {
   "cell_type": "code",
   "execution_count": 65,
   "metadata": {},
   "outputs": [
    {
     "name": "stdout",
     "output_type": "stream",
     "text": [
      "Epoch 1/10\n",
      "333/334 [============================>.] - ETA: 0s - loss: 4.5185 - acc: 0.0491Epoch 00000: val_loss improved from inf to 4.44552, saving model to saved_models/weights.bestaugmented.from_scratch.hdf5\n",
      "334/334 [==============================] - 56s - loss: 4.5176 - acc: 0.0491 - val_loss: 4.4455 - val_acc: 0.0395\n",
      "Epoch 2/10\n",
      "333/334 [============================>.] - ETA: 0s - loss: 4.0574 - acc: 0.0868Epoch 00001: val_loss improved from 4.44552 to 4.02441, saving model to saved_models/weights.bestaugmented.from_scratch.hdf5\n",
      "334/334 [==============================] - 53s - loss: 4.0578 - acc: 0.0867 - val_loss: 4.0244 - val_acc: 0.0970\n",
      "Epoch 3/10\n",
      "333/334 [============================>.] - ETA: 0s - loss: 3.7375 - acc: 0.1300Epoch 00002: val_loss improved from 4.02441 to 3.65766, saving model to saved_models/weights.bestaugmented.from_scratch.hdf5\n",
      "334/334 [==============================] - 53s - loss: 3.7375 - acc: 0.1304 - val_loss: 3.6577 - val_acc: 0.1377\n",
      "Epoch 4/10\n",
      "333/334 [============================>.] - ETA: 0s - loss: 3.4311 - acc: 0.1811Epoch 00003: val_loss improved from 3.65766 to 3.52378, saving model to saved_models/weights.bestaugmented.from_scratch.hdf5\n",
      "334/334 [==============================] - 54s - loss: 3.4298 - acc: 0.1810 - val_loss: 3.5238 - val_acc: 0.1521\n",
      "Epoch 5/10\n",
      "333/334 [============================>.] - ETA: 0s - loss: 3.1640 - acc: 0.2318Epoch 00004: val_loss improved from 3.52378 to 3.16849, saving model to saved_models/weights.bestaugmented.from_scratch.hdf5\n",
      "334/334 [==============================] - 54s - loss: 3.1646 - acc: 0.2319 - val_loss: 3.1685 - val_acc: 0.2323\n",
      "Epoch 6/10\n",
      "333/334 [============================>.] - ETA: 0s - loss: 2.9121 - acc: 0.2833Epoch 00005: val_loss improved from 3.16849 to 3.01435, saving model to saved_models/weights.bestaugmented.from_scratch.hdf5\n",
      "334/334 [==============================] - 54s - loss: 2.9126 - acc: 0.2829 - val_loss: 3.0144 - val_acc: 0.2479\n",
      "Epoch 7/10\n",
      "333/334 [============================>.] - ETA: 0s - loss: 2.6775 - acc: 0.3243Epoch 00006: val_loss improved from 3.01435 to 2.98855, saving model to saved_models/weights.bestaugmented.from_scratch.hdf5\n",
      "334/334 [==============================] - 54s - loss: 2.6766 - acc: 0.3246 - val_loss: 2.9885 - val_acc: 0.2527\n",
      "Epoch 8/10\n",
      "333/334 [============================>.] - ETA: 0s - loss: 2.4692 - acc: 0.3653Epoch 00007: val_loss improved from 2.98855 to 2.71301, saving model to saved_models/weights.bestaugmented.from_scratch.hdf5\n",
      "334/334 [==============================] - 54s - loss: 2.4686 - acc: 0.3656 - val_loss: 2.7130 - val_acc: 0.3234\n",
      "Epoch 9/10\n",
      "333/334 [============================>.] - ETA: 0s - loss: 2.2736 - acc: 0.4180Epoch 00008: val_loss improved from 2.71301 to 2.70033, saving model to saved_models/weights.bestaugmented.from_scratch.hdf5\n",
      "334/334 [==============================] - 54s - loss: 2.2741 - acc: 0.4180 - val_loss: 2.7003 - val_acc: 0.3138\n",
      "Epoch 10/10\n",
      "333/334 [============================>.] - ETA: 0s - loss: 2.0755 - acc: 0.4601Epoch 00009: val_loss improved from 2.70033 to 2.60297, saving model to saved_models/weights.bestaugmented.from_scratch.hdf5\n",
      "334/334 [==============================] - 53s - loss: 2.0758 - acc: 0.4603 - val_loss: 2.6030 - val_acc: 0.3437\n"
     ]
    },
    {
     "data": {
      "text/plain": [
       "<keras.callbacks.History at 0x7f232c0b0668>"
      ]
     },
     "execution_count": 65,
     "metadata": {},
     "output_type": "execute_result"
    }
   ],
   "source": [
    "epochs = 10\n",
    "batch_size = 20\n",
    "\n",
    "checkpointer = ModelCheckpoint(filepath='saved_models/weights.bestaugmented.from_scratch.hdf5', \n",
    "                               verbose=1, save_best_only=True)\n",
    "\n",
    "### Using Image Augmentation\n",
    "model.fit_generator(datagen.flow(train_tensors, train_targets, batch_size=batch_size),\n",
    "                    validation_data=(valid_tensors, valid_targets), \n",
    "                    steps_per_epoch=train_tensors.shape[0] // batch_size,\n",
    "                    epochs=epochs, callbacks=[checkpointer], verbose=1)"
   ]
  },
  {
   "cell_type": "markdown",
   "metadata": {},
   "source": [
    "### Load the Model with the Best Validation Loss"
   ]
  },
  {
   "cell_type": "code",
   "execution_count": 66,
   "metadata": {},
   "outputs": [],
   "source": [
    "model.load_weights('saved_models/weights.bestaugmented.from_scratch.hdf5')"
   ]
  },
  {
   "cell_type": "markdown",
   "metadata": {},
   "source": [
    "### Test the Model\n",
    "\n",
    "Try out your model on the test dataset of dog images.  Ensure that your test accuracy is greater than 1%."
   ]
  },
  {
   "cell_type": "code",
   "execution_count": 67,
   "metadata": {},
   "outputs": [
    {
     "name": "stdout",
     "output_type": "stream",
     "text": [
      "Test accuracy: 33.6124%\n"
     ]
    }
   ],
   "source": [
    "# get index of predicted dog breed for each image in test set\n",
    "dog_breed_predictions = [np.argmax(model.predict(np.expand_dims(tensor, axis=0))) for tensor in test_tensors]\n",
    "\n",
    "# report test accuracy\n",
    "test_accuracy = 100*np.sum(np.array(dog_breed_predictions)==np.argmax(test_targets, axis=1))/len(dog_breed_predictions)\n",
    "print('Test accuracy: %.4f%%' % test_accuracy)"
   ]
  },
  {
   "cell_type": "markdown",
   "metadata": {},
   "source": [
    "### More Training\n",
    "The current accuracy is below 35% which is too low. Resuming training to see if accuracy improves."
   ]
  },
  {
   "cell_type": "code",
   "execution_count": 68,
   "metadata": {},
   "outputs": [
    {
     "name": "stdout",
     "output_type": "stream",
     "text": [
      "Epoch 1/5\n",
      "333/334 [============================>.] - ETA: 0s - loss: 1.9290 - acc: 0.4970Epoch 00000: val_loss improved from 2.60297 to 2.34118, saving model to saved_models/weights.bestaugmented.from_scratch.hdf5\n",
      "334/334 [==============================] - 55s - loss: 1.9291 - acc: 0.4969 - val_loss: 2.3412 - val_acc: 0.4000\n",
      "Epoch 2/5\n",
      "333/334 [============================>.] - ETA: 0s - loss: 1.7645 - acc: 0.5392Epoch 00001: val_loss did not improve\n",
      "334/334 [==============================] - 54s - loss: 1.7641 - acc: 0.5392 - val_loss: 2.3844 - val_acc: 0.3916\n",
      "Epoch 3/5\n",
      "333/334 [============================>.] - ETA: 0s - loss: 1.6148 - acc: 0.5682Epoch 00002: val_loss improved from 2.34118 to 2.31386, saving model to saved_models/weights.bestaugmented.from_scratch.hdf5\n",
      "334/334 [==============================] - 54s - loss: 1.6149 - acc: 0.5678 - val_loss: 2.3139 - val_acc: 0.4084\n",
      "Epoch 4/5\n",
      "333/334 [============================>.] - ETA: 0s - loss: 1.4537 - acc: 0.6075Epoch 00003: val_loss did not improve\n",
      "334/334 [==============================] - 54s - loss: 1.4561 - acc: 0.6066 - val_loss: 2.3389 - val_acc: 0.4036\n",
      "Epoch 5/5\n",
      "333/334 [============================>.] - ETA: 0s - loss: 1.3784 - acc: 0.6290Epoch 00004: val_loss improved from 2.31386 to 2.19524, saving model to saved_models/weights.bestaugmented.from_scratch.hdf5\n",
      "334/334 [==============================] - 54s - loss: 1.3795 - acc: 0.6281 - val_loss: 2.1952 - val_acc: 0.4299\n"
     ]
    },
    {
     "data": {
      "text/plain": [
       "<keras.callbacks.History at 0x7f232c3c8e80>"
      ]
     },
     "execution_count": 68,
     "metadata": {},
     "output_type": "execute_result"
    }
   ],
   "source": [
    "batch_size = 20\n",
    "epochs = 5\n",
    "\n",
    "model.fit_generator(datagen.flow(train_tensors, train_targets, batch_size=batch_size),\n",
    "                    validation_data=(valid_tensors, valid_targets), \n",
    "                    steps_per_epoch=train_tensors.shape[0] // batch_size,\n",
    "                    epochs=epochs, callbacks=[checkpointer], verbose=1)"
   ]
  },
  {
   "cell_type": "markdown",
   "metadata": {},
   "source": [
    "We see that model training the model does affect our accuracy and current accuracy is 42% so training the model further with different batch-sizes."
   ]
  },
  {
   "cell_type": "code",
   "execution_count": 69,
   "metadata": {},
   "outputs": [
    {
     "name": "stdout",
     "output_type": "stream",
     "text": [
      "Epoch 1/5\n",
      "333/334 [============================>.] - ETA: 0s - loss: 1.2509 - acc: 0.6599Epoch 00000: val_loss improved from 2.19524 to 2.12771, saving model to saved_models/weights.bestaugmented.from_scratch.hdf5\n",
      "334/334 [==============================] - 54s - loss: 1.2515 - acc: 0.6600 - val_loss: 2.1277 - val_acc: 0.4539\n",
      "Epoch 2/5\n",
      "333/334 [============================>.] - ETA: 0s - loss: 1.1540 - acc: 0.6881Epoch 00001: val_loss did not improve\n",
      "334/334 [==============================] - 53s - loss: 1.1539 - acc: 0.6882 - val_loss: 2.3026 - val_acc: 0.4323\n",
      "Epoch 3/5\n",
      "333/334 [============================>.] - ETA: 0s - loss: 1.0737 - acc: 0.7065Epoch 00002: val_loss improved from 2.12771 to 2.01916, saving model to saved_models/weights.bestaugmented.from_scratch.hdf5\n",
      "334/334 [==============================] - 54s - loss: 1.0738 - acc: 0.7064 - val_loss: 2.0192 - val_acc: 0.4790\n",
      "Epoch 4/5\n",
      "333/334 [============================>.] - ETA: 0s - loss: 0.9930 - acc: 0.7314Epoch 00003: val_loss did not improve\n",
      "334/334 [==============================] - 53s - loss: 0.9938 - acc: 0.7313 - val_loss: 2.0898 - val_acc: 0.4539\n",
      "Epoch 5/5\n",
      "333/334 [============================>.] - ETA: 0s - loss: 0.9121 - acc: 0.7508Epoch 00004: val_loss did not improve\n",
      "334/334 [==============================] - 53s - loss: 0.9118 - acc: 0.7509 - val_loss: 2.0878 - val_acc: 0.4479\n"
     ]
    },
    {
     "data": {
      "text/plain": [
       "<keras.callbacks.History at 0x7f232c3c80b8>"
      ]
     },
     "execution_count": 69,
     "metadata": {},
     "output_type": "execute_result"
    }
   ],
   "source": [
    "batch_size = 20\n",
    "epochs = 5\n",
    "\n",
    "model.fit_generator(datagen.flow(train_tensors, train_targets, batch_size=batch_size),\n",
    "                    validation_data=(valid_tensors, valid_targets), \n",
    "                    steps_per_epoch=train_tensors.shape[0] // batch_size,\n",
    "                    epochs=epochs, callbacks=[checkpointer], verbose=1)"
   ]
  },
  {
   "cell_type": "code",
   "execution_count": 70,
   "metadata": {},
   "outputs": [
    {
     "name": "stdout",
     "output_type": "stream",
     "text": [
      "Epoch 1/5\n",
      "103/104 [============================>.] - ETA: 0s - loss: 0.5606 - acc: 0.8664Epoch 00000: val_loss improved from 2.01916 to 1.79080, saving model to saved_models/weights.bestaugmented.from_scratch.hdf5\n",
      "104/104 [==============================] - 55s - loss: 0.5602 - acc: 0.8660 - val_loss: 1.7908 - val_acc: 0.5353\n",
      "Epoch 2/5\n",
      "103/104 [============================>.] - ETA: 0s - loss: 0.4839 - acc: 0.8882Epoch 00001: val_loss improved from 1.79080 to 1.79002, saving model to saved_models/weights.bestaugmented.from_scratch.hdf5\n",
      "104/104 [==============================] - 52s - loss: 0.4830 - acc: 0.8887 - val_loss: 1.7900 - val_acc: 0.5329\n",
      "Epoch 3/5\n",
      "103/104 [============================>.] - ETA: 0s - loss: 0.4499 - acc: 0.8989Epoch 00002: val_loss improved from 1.79002 to 1.73593, saving model to saved_models/weights.bestaugmented.from_scratch.hdf5\n",
      "104/104 [==============================] - 51s - loss: 0.4506 - acc: 0.8988 - val_loss: 1.7359 - val_acc: 0.5353\n",
      "Epoch 4/5\n",
      "103/104 [============================>.] - ETA: 0s - loss: 0.4241 - acc: 0.9058Epoch 00003: val_loss did not improve\n",
      "104/104 [==============================] - 51s - loss: 0.4252 - acc: 0.9057 - val_loss: 1.7886 - val_acc: 0.5401\n",
      "Epoch 5/5\n",
      "103/104 [============================>.] - ETA: 0s - loss: 0.3959 - acc: 0.9123Epoch 00004: val_loss did not improve\n",
      "104/104 [==============================] - 52s - loss: 0.3951 - acc: 0.9127 - val_loss: 1.7710 - val_acc: 0.5293\n"
     ]
    },
    {
     "data": {
      "text/plain": [
       "<keras.callbacks.History at 0x7f232c0b02b0>"
      ]
     },
     "execution_count": 70,
     "metadata": {},
     "output_type": "execute_result"
    }
   ],
   "source": [
    "batch_size = 64\n",
    "epochs = 5\n",
    "\n",
    "model.fit_generator(datagen.flow(train_tensors, train_targets, batch_size=batch_size),\n",
    "                    validation_data=(valid_tensors, valid_targets), \n",
    "                    steps_per_epoch=train_tensors.shape[0] // batch_size,\n",
    "                    epochs=epochs, callbacks=[checkpointer], verbose=1)"
   ]
  },
  {
   "cell_type": "markdown",
   "metadata": {},
   "source": [
    "Results: \n",
    "- Increasing the training epochs and bacth-size ha increased the accuracy to 91%!\n",
    "- However we have to tradeoff performance here, as the training was very slow."
   ]
  },
  {
   "cell_type": "markdown",
   "metadata": {},
   "source": [
    "### Testing the Model Again"
   ]
  },
  {
   "cell_type": "code",
   "execution_count": 71,
   "metadata": {},
   "outputs": [
    {
     "name": "stdout",
     "output_type": "stream",
     "text": [
      "Test accuracy: 53.2297%\n"
     ]
    }
   ],
   "source": [
    "# get index of predicted dog breed for each image in test set\n",
    "dog_breed_predictions = [np.argmax(model.predict(np.expand_dims(tensor, axis=0))) for tensor in test_tensors]\n",
    "\n",
    "# report test accuracy\n",
    "test_accuracy = 100*np.sum(np.array(dog_breed_predictions)==np.argmax(test_targets, axis=1))/len(dog_breed_predictions)\n",
    "print('Test accuracy: %.4f%%' % test_accuracy)"
   ]
  },
  {
   "cell_type": "markdown",
   "metadata": {},
   "source": [
    "Looking at the results of training set and test set we see that after multiple training iterations model performs with 91% accuracy on the training set but when we test our model against the test set we get just 53% accuracy. It seems our model may be overfitting."
   ]
  },
  {
   "cell_type": "markdown",
   "metadata": {},
   "source": [
    "---\n",
    "<a id='step4'></a>\n",
    "## Step 4: Use a CNN to Classify Dog Breeds\n",
    "\n",
    "In the Step 3, I noticed that implementing my model from scratch involves me to do image augmentation, pre-processing, scaling, training all of which takes a lot of time but performs very well at the end.\n",
    "\n",
    "In this step, to reduce training time without sacrificing accuracy, I use transfer learning on the VGG16 pre-trained CNN. Then in the next step I will use the same technique on ResNet50 CNN for my algorithm to achieve performance.\n",
    "\n",
    "### Obtaining Bottleneck Features"
   ]
  },
  {
   "cell_type": "code",
   "execution_count": 81,
   "metadata": {},
   "outputs": [],
   "source": [
    "bottleneck_features = np.load('bottleneck_features/DogVGG16Data.npz')\n",
    "train_VGG16 = bottleneck_features['train']\n",
    "valid_VGG16 = bottleneck_features['valid']\n",
    "test_VGG16 = bottleneck_features['test']"
   ]
  },
  {
   "cell_type": "markdown",
   "metadata": {},
   "source": [
    "### Model Architecture VGG16\n",
    "\n",
    "I haved used the pre-trained VGG-16 model as a fixed feature extractor, where the last convolutional output of VGG-16 is fed as input to the model. Therefore, we only add a global average pooling layer and a fully connected layer, where the latter contains one node for each dog category and is equipped with a softmax."
   ]
  },
  {
   "cell_type": "code",
   "execution_count": 108,
   "metadata": {},
   "outputs": [
    {
     "name": "stdout",
     "output_type": "stream",
     "text": [
      "_________________________________________________________________\n",
      "Layer (type)                 Output Shape              Param #   \n",
      "=================================================================\n",
      "global_average_pooling2d_7 ( (None, 512)               0         \n",
      "_________________________________________________________________\n",
      "dense_9 (Dense)              (None, 133)               68229     \n",
      "=================================================================\n",
      "Total params: 68,229\n",
      "Trainable params: 68,229\n",
      "Non-trainable params: 0\n",
      "_________________________________________________________________\n"
     ]
    }
   ],
   "source": [
    "VGG16_model = Sequential()\n",
    "VGG16_model.add(GlobalAveragePooling2D(input_shape=train_VGG16.shape[1:]))\n",
    "VGG16_model.add(Dense(133, activation='softmax'))\n",
    "\n",
    "VGG16_model.summary()"
   ]
  },
  {
   "cell_type": "markdown",
   "metadata": {},
   "source": [
    "### Compile the VGG16 Model"
   ]
  },
  {
   "cell_type": "code",
   "execution_count": 109,
   "metadata": {},
   "outputs": [],
   "source": [
    "VGG16_model.compile(loss='categorical_crossentropy', optimizer='rmsprop', metrics=['accuracy'])"
   ]
  },
  {
   "cell_type": "markdown",
   "metadata": {},
   "source": [
    "### Train the VGG16 Model"
   ]
  },
  {
   "cell_type": "code",
   "execution_count": 110,
   "metadata": {},
   "outputs": [
    {
     "name": "stdout",
     "output_type": "stream",
     "text": [
      "Train on 6680 samples, validate on 835 samples\n",
      "Epoch 1/20\n",
      "6580/6680 [============================>.] - ETA: 0s - loss: 12.3546 - acc: 0.1304Epoch 00000: val_loss improved from inf to 10.98598, saving model to saved_models/weights.best.VGG16.hdf5\n",
      "6680/6680 [==============================] - 3s - loss: 12.3471 - acc: 0.1314 - val_loss: 10.9860 - val_acc: 0.2228\n",
      "Epoch 2/20\n",
      "6620/6680 [============================>.] - ETA: 0s - loss: 10.2008 - acc: 0.2843Epoch 00001: val_loss improved from 10.98598 to 10.10783, saving model to saved_models/weights.best.VGG16.hdf5\n",
      "6680/6680 [==============================] - 1s - loss: 10.1961 - acc: 0.2847 - val_loss: 10.1078 - val_acc: 0.2862\n",
      "Epoch 3/20\n",
      "6580/6680 [============================>.] - ETA: 0s - loss: 9.5985 - acc: 0.3429Epoch 00002: val_loss improved from 10.10783 to 9.83629, saving model to saved_models/weights.best.VGG16.hdf5\n",
      "6680/6680 [==============================] - 1s - loss: 9.5965 - acc: 0.3427 - val_loss: 9.8363 - val_acc: 0.3150\n",
      "Epoch 4/20\n",
      "6580/6680 [============================>.] - ETA: 0s - loss: 9.2587 - acc: 0.3789Epoch 00003: val_loss improved from 9.83629 to 9.53517, saving model to saved_models/weights.best.VGG16.hdf5\n",
      "6680/6680 [==============================] - 1s - loss: 9.2782 - acc: 0.3775 - val_loss: 9.5352 - val_acc: 0.3293\n",
      "Epoch 5/20\n",
      "6600/6680 [============================>.] - ETA: 0s - loss: 8.9689 - acc: 0.4074Epoch 00004: val_loss improved from 9.53517 to 9.36200, saving model to saved_models/weights.best.VGG16.hdf5\n",
      "6680/6680 [==============================] - 1s - loss: 8.9159 - acc: 0.4103 - val_loss: 9.3620 - val_acc: 0.3545\n",
      "Epoch 6/20\n",
      "6600/6680 [============================>.] - ETA: 0s - loss: 8.7999 - acc: 0.4298Epoch 00005: val_loss improved from 9.36200 to 9.26981, saving model to saved_models/weights.best.VGG16.hdf5\n",
      "6680/6680 [==============================] - 1s - loss: 8.8112 - acc: 0.4290 - val_loss: 9.2698 - val_acc: 0.3665\n",
      "Epoch 7/20\n",
      "6600/6680 [============================>.] - ETA: 0s - loss: 8.7344 - acc: 0.4391Epoch 00006: val_loss did not improve\n",
      "6680/6680 [==============================] - 1s - loss: 8.7437 - acc: 0.4386 - val_loss: 9.2903 - val_acc: 0.3629\n",
      "Epoch 8/20\n",
      "6620/6680 [============================>.] - ETA: 0s - loss: 8.5538 - acc: 0.4437Epoch 00007: val_loss improved from 9.26981 to 9.01146, saving model to saved_models/weights.best.VGG16.hdf5\n",
      "6680/6680 [==============================] - 1s - loss: 8.5548 - acc: 0.4433 - val_loss: 9.0115 - val_acc: 0.3701\n",
      "Epoch 9/20\n",
      "6580/6680 [============================>.] - ETA: 0s - loss: 8.3286 - acc: 0.4675Epoch 00008: val_loss improved from 9.01146 to 8.90822, saving model to saved_models/weights.best.VGG16.hdf5\n",
      "6680/6680 [==============================] - 1s - loss: 8.3256 - acc: 0.4675 - val_loss: 8.9082 - val_acc: 0.3808\n",
      "Epoch 10/20\n",
      "6580/6680 [============================>.] - ETA: 0s - loss: 8.2655 - acc: 0.4749Epoch 00009: val_loss improved from 8.90822 to 8.85075, saving model to saved_models/weights.best.VGG16.hdf5\n",
      "6680/6680 [==============================] - 1s - loss: 8.2751 - acc: 0.4741 - val_loss: 8.8508 - val_acc: 0.3928\n",
      "Epoch 11/20\n",
      "6580/6680 [============================>.] - ETA: 0s - loss: 8.2342 - acc: 0.4790Epoch 00010: val_loss improved from 8.85075 to 8.83739, saving model to saved_models/weights.best.VGG16.hdf5\n",
      "6680/6680 [==============================] - 1s - loss: 8.2489 - acc: 0.4780 - val_loss: 8.8374 - val_acc: 0.3952\n",
      "Epoch 12/20\n",
      "6540/6680 [============================>.] - ETA: 0s - loss: 8.2039 - acc: 0.4810Epoch 00011: val_loss improved from 8.83739 to 8.70993, saving model to saved_models/weights.best.VGG16.hdf5\n",
      "6680/6680 [==============================] - 1s - loss: 8.2170 - acc: 0.4802 - val_loss: 8.7099 - val_acc: 0.4024\n",
      "Epoch 13/20\n",
      "6520/6680 [============================>.] - ETA: 0s - loss: 8.1423 - acc: 0.4845Epoch 00012: val_loss did not improve\n",
      "6680/6680 [==============================] - 1s - loss: 8.1648 - acc: 0.4834 - val_loss: 8.7159 - val_acc: 0.4084\n",
      "Epoch 14/20\n",
      "6520/6680 [============================>.] - ETA: 0s - loss: 8.1123 - acc: 0.4905Epoch 00013: val_loss improved from 8.70993 to 8.68665, saving model to saved_models/weights.best.VGG16.hdf5\n",
      "6680/6680 [==============================] - 1s - loss: 8.1352 - acc: 0.4892 - val_loss: 8.6866 - val_acc: 0.4060\n",
      "Epoch 15/20\n",
      "6620/6680 [============================>.] - ETA: 0s - loss: 8.1286 - acc: 0.4912Epoch 00014: val_loss did not improve\n",
      "6680/6680 [==============================] - 1s - loss: 8.1235 - acc: 0.4915 - val_loss: 8.7687 - val_acc: 0.4012\n",
      "Epoch 16/20\n",
      "6600/6680 [============================>.] - ETA: 0s - loss: 8.0374 - acc: 0.4917Epoch 00015: val_loss did not improve\n",
      "6680/6680 [==============================] - 1s - loss: 8.0474 - acc: 0.4912 - val_loss: 8.6948 - val_acc: 0.4000\n",
      "Epoch 17/20\n",
      "6600/6680 [============================>.] - ETA: 0s - loss: 7.9092 - acc: 0.4989Epoch 00016: val_loss improved from 8.68665 to 8.59098, saving model to saved_models/weights.best.VGG16.hdf5\n",
      "6680/6680 [==============================] - 1s - loss: 7.9045 - acc: 0.4993 - val_loss: 8.5910 - val_acc: 0.4144\n",
      "Epoch 18/20\n",
      "6620/6680 [============================>.] - ETA: 0s - loss: 7.8412 - acc: 0.5071Epoch 00017: val_loss did not improve\n",
      "6680/6680 [==============================] - 1s - loss: 7.8504 - acc: 0.5066 - val_loss: 8.6783 - val_acc: 0.3928\n",
      "Epoch 19/20\n",
      "6620/6680 [============================>.] - ETA: 0s - loss: 7.7537 - acc: 0.5109Epoch 00018: val_loss improved from 8.59098 to 8.46468, saving model to saved_models/weights.best.VGG16.hdf5\n",
      "6680/6680 [==============================] - 1s - loss: 7.7565 - acc: 0.5108 - val_loss: 8.4647 - val_acc: 0.4204\n",
      "Epoch 20/20\n",
      "6620/6680 [============================>.] - ETA: 0s - loss: 7.6582 - acc: 0.5140Epoch 00019: val_loss improved from 8.46468 to 8.29932, saving model to saved_models/weights.best.VGG16.hdf5\n",
      "6680/6680 [==============================] - 1s - loss: 7.6657 - acc: 0.5135 - val_loss: 8.2993 - val_acc: 0.4216\n"
     ]
    },
    {
     "data": {
      "text/plain": [
       "<keras.callbacks.History at 0x7f231777e358>"
      ]
     },
     "execution_count": 110,
     "metadata": {},
     "output_type": "execute_result"
    }
   ],
   "source": [
    "checkpointer = ModelCheckpoint(filepath='saved_models/weights.best.VGG16.hdf5', \n",
    "                               verbose=1, save_best_only=True)\n",
    "\n",
    "VGG16_model.fit(train_VGG16, train_targets, \n",
    "          validation_data=(valid_VGG16, valid_targets),\n",
    "          epochs=20, batch_size=20, callbacks=[checkpointer], verbose=1)"
   ]
  },
  {
   "cell_type": "markdown",
   "metadata": {},
   "source": [
    "### Loading the VGG16 Model with the Best Validation Loss"
   ]
  },
  {
   "cell_type": "code",
   "execution_count": 86,
   "metadata": {},
   "outputs": [],
   "source": [
    "VGG16_model.load_weights('saved_models/weights.best.VGG16.hdf5')"
   ]
  },
  {
   "cell_type": "markdown",
   "metadata": {},
   "source": [
    "### Test our VGG16 Model\n",
    "\n",
    "To test how well our model identifies breed within our test dataset of dog images.  We print the test accuracy below."
   ]
  },
  {
   "cell_type": "code",
   "execution_count": 111,
   "metadata": {},
   "outputs": [
    {
     "name": "stdout",
     "output_type": "stream",
     "text": [
      "Test accuracy: 42.9426%\n"
     ]
    }
   ],
   "source": [
    "# get index of predicted dog breed for each image in test set\n",
    "VGG16_predictions = [np.argmax(VGG16_model.predict(np.expand_dims(feature, axis=0))) for feature in test_VGG16]\n",
    "\n",
    "# report test accuracy\n",
    "test_accuracy = 100*np.sum(np.array(VGG16_predictions)==np.argmax(test_targets, axis=1))/len(VGG16_predictions)\n",
    "print('Test accuracy: %.4f%%' % test_accuracy)"
   ]
  },
  {
   "cell_type": "markdown",
   "metadata": {},
   "source": [
    "We see that the model is performing with just 42% accuracy this is too low as compared to the model we created from scratch. The reason for this is when we initially see our previous models accuracy was below 35% then retraining on multiple Epochs and Batch sizes gave us the accuracy of 91%. However, using transfer learning on VGG16 model without any retraining gave us accuracy above 40% not to mention the time it took to train was far less. Hence, transfer learning is a good choice."
   ]
  },
  {
   "cell_type": "markdown",
   "metadata": {},
   "source": [
    "---\n",
    "<a id='step5'></a>\n",
    "## Step 5: Create a CNN to Classify Dog Breeds (using Transfer Learning)\n",
    "\n",
    "In this step I have use transfer learning to create a CNN that can identify dog breed from images.\n",
    "\n",
    "Here I have written an algorithm that accepts a file path of image then identifies if the image contains a human, dog or neither.\n",
    "\n",
    "- If a dog is detected, it returns the predicted breed.\n",
    "- If a human is detected, it returns the most resembling dog breed.\n",
    "- If neigther of above two is detected, it just indicates that to the user.\n",
    "\n",
    "### Obtain Bottleneck Features"
   ]
  },
  {
   "cell_type": "code",
   "execution_count": 27,
   "metadata": {},
   "outputs": [
    {
     "name": "stdout",
     "output_type": "stream",
     "text": [
      "_________________________________________________________________\n",
      "Layer (type)                 Output Shape              Param #   \n",
      "=================================================================\n",
      "global_average_pooling2d_2 ( (None, 2048)              0         \n",
      "_________________________________________________________________\n",
      "dense_4 (Dense)              (None, 133)               272517    \n",
      "=================================================================\n",
      "Total params: 272,517\n",
      "Trainable params: 272,517\n",
      "Non-trainable params: 0\n",
      "_________________________________________________________________\n"
     ]
    }
   ],
   "source": [
    "import numpy as np\n",
    "\n",
    "### TODO: Obtain bottleneck features from another pre-trained CNN.\n",
    "bottleneck_features = np.load('bottleneck_features/DogResnet50Data.npz')\n",
    "train_ResNet50 = bottleneck_features['train']\n",
    "valid_ResNet50 = bottleneck_features['valid']\n",
    "test_ResNet50 = bottleneck_features['test']"
   ]
  },
  {
   "cell_type": "markdown",
   "metadata": {},
   "source": [
    "### Model Architecture ResNet50\n",
    "\n",
    "I have used ResNet50 because it has several advantages over VGG16 model. In choosing my model I referred to this <a href='https://arxiv.org/abs/1512.03385'>research paper</a> and had to Google to learn in more detail about this model.\n",
    "- It has lower complexity and provide deeper neural network\n",
    "- Solves the vanishing gradient descent problem and being good especially for image classification task.\n",
    "\n",
    "In my model architechture I used pre-trained ResNet50 model as a fixed feature extractor, where there is just one global average pooling layer and a fully connected layer which has a softmax function that predicts the probability of each breed. Apart this I have used Adamax optimizer and checkpointer to get best validation loss."
   ]
  },
  {
   "cell_type": "code",
   "execution_count": null,
   "metadata": {},
   "outputs": [],
   "source": [
    "from keras.layers import Conv2D, MaxPooling2D, GlobalAveragePooling2D\n",
    "from keras.layers import Dropout, Flatten, Dense, Activation\n",
    "from keras.models import Sequential\n",
    "from keras.layers.normalization import BatchNormalization\n",
    "\n",
    "ResNet_model = Sequential()\n",
    "ResNet_model.add(GlobalAveragePooling2D(input_shape=train_ResNet50.shape[1:]))\n",
    "ResNet_model.add(Dense(133, activation='softmax'))\n",
    "\n",
    "ResNet_model.summary()"
   ]
  },
  {
   "cell_type": "markdown",
   "metadata": {},
   "source": [
    "### Compile the Model"
   ]
  },
  {
   "cell_type": "code",
   "execution_count": 28,
   "metadata": {},
   "outputs": [],
   "source": [
    "from keras.optimizers import Adam, Adamax\n",
    "\n",
    "ResNet_model.compile(loss='categorical_crossentropy', optimizer=Adamax(lr=0.002), metrics=['accuracy'])"
   ]
  },
  {
   "cell_type": "markdown",
   "metadata": {},
   "source": [
    "### Train the Model\n",
    "\n",
    "Train your model in the code cell below.  Use model checkpointing to save the model that attains the best validation loss.  \n",
    "\n",
    "You are welcome to [augment the training data](https://blog.keras.io/building-powerful-image-classification-models-using-very-little-data.html), but this is not a requirement. "
   ]
  },
  {
   "cell_type": "code",
   "execution_count": 29,
   "metadata": {},
   "outputs": [
    {
     "name": "stdout",
     "output_type": "stream",
     "text": [
      "Train on 6680 samples, validate on 835 samples\n",
      "Epoch 1/20\n",
      "6500/6680 [============================>.] - ETA: 0s - loss: 1.6409 - acc: 0.5903Epoch 00000: val_loss improved from inf to 0.80066, saving model to saved_models/weights.best.ResNet50.hdf5\n",
      "6680/6680 [==============================] - 1s - loss: 1.6201 - acc: 0.5951 - val_loss: 0.8007 - val_acc: 0.7497\n",
      "Epoch 2/20\n",
      "6480/6680 [============================>.] - ETA: 0s - loss: 0.4319 - acc: 0.8660Epoch 00001: val_loss improved from 0.80066 to 0.74881, saving model to saved_models/weights.best.ResNet50.hdf5\n",
      "6680/6680 [==============================] - 1s - loss: 0.4320 - acc: 0.8663 - val_loss: 0.7488 - val_acc: 0.7796\n",
      "Epoch 3/20\n",
      "6500/6680 [============================>.] - ETA: 0s - loss: 0.2612 - acc: 0.9185Epoch 00002: val_loss improved from 0.74881 to 0.73122, saving model to saved_models/weights.best.ResNet50.hdf5\n",
      "6680/6680 [==============================] - 1s - loss: 0.2626 - acc: 0.9180 - val_loss: 0.7312 - val_acc: 0.7820\n",
      "Epoch 4/20\n",
      "6520/6680 [============================>.] - ETA: 0s - loss: 0.1797 - acc: 0.9422Epoch 00003: val_loss improved from 0.73122 to 0.66970, saving model to saved_models/weights.best.ResNet50.hdf5\n",
      "6680/6680 [==============================] - 1s - loss: 0.1788 - acc: 0.9424 - val_loss: 0.6697 - val_acc: 0.8012\n",
      "Epoch 5/20\n",
      "6500/6680 [============================>.] - ETA: 0s - loss: 0.1220 - acc: 0.9602Epoch 00004: val_loss did not improve\n",
      "6680/6680 [==============================] - 1s - loss: 0.1215 - acc: 0.9605 - val_loss: 0.6885 - val_acc: 0.8168\n",
      "Epoch 6/20\n",
      "6580/6680 [============================>.] - ETA: 0s - loss: 0.0873 - acc: 0.9708Epoch 00005: val_loss did not improve\n",
      "6680/6680 [==============================] - 1s - loss: 0.0876 - acc: 0.9704 - val_loss: 0.7043 - val_acc: 0.8060\n",
      "Epoch 7/20\n",
      "6500/6680 [============================>.] - ETA: 0s - loss: 0.0636 - acc: 0.9811Epoch 00006: val_loss did not improve\n",
      "6680/6680 [==============================] - 1s - loss: 0.0634 - acc: 0.9810 - val_loss: 0.7256 - val_acc: 0.8192\n",
      "Epoch 8/20\n",
      "6520/6680 [============================>.] - ETA: 0s - loss: 0.0475 - acc: 0.9871Epoch 00007: val_loss did not improve\n",
      "6680/6680 [==============================] - 1s - loss: 0.0471 - acc: 0.9871 - val_loss: 0.7649 - val_acc: 0.8204\n",
      "Epoch 9/20\n",
      "6580/6680 [============================>.] - ETA: 0s - loss: 0.0349 - acc: 0.9903Epoch 00008: val_loss did not improve\n",
      "6680/6680 [==============================] - 1s - loss: 0.0349 - acc: 0.9903 - val_loss: 0.7011 - val_acc: 0.8084\n",
      "Epoch 10/20\n",
      "6480/6680 [============================>.] - ETA: 0s - loss: 0.0259 - acc: 0.9927Epoch 00009: val_loss did not improve\n",
      "6680/6680 [==============================] - 1s - loss: 0.0261 - acc: 0.9928 - val_loss: 0.7516 - val_acc: 0.8228\n",
      "Epoch 11/20\n",
      "6500/6680 [============================>.] - ETA: 0s - loss: 0.0211 - acc: 0.9940Epoch 00010: val_loss did not improve\n",
      "6680/6680 [==============================] - 1s - loss: 0.0209 - acc: 0.9940 - val_loss: 0.7675 - val_acc: 0.8132\n",
      "Epoch 12/20\n",
      "6500/6680 [============================>.] - ETA: 0s - loss: 0.0190 - acc: 0.9952Epoch 00011: val_loss did not improve\n",
      "6680/6680 [==============================] - 1s - loss: 0.0187 - acc: 0.9952 - val_loss: 0.7832 - val_acc: 0.8263\n",
      "Epoch 13/20\n",
      "6500/6680 [============================>.] - ETA: 0s - loss: 0.0133 - acc: 0.9966Epoch 00012: val_loss did not improve\n",
      "6680/6680 [==============================] - 1s - loss: 0.0133 - acc: 0.9966 - val_loss: 0.8446 - val_acc: 0.8168\n",
      "Epoch 14/20\n",
      "6500/6680 [============================>.] - ETA: 0s - loss: 0.0111 - acc: 0.9977Epoch 00013: val_loss did not improve\n",
      "6680/6680 [==============================] - 1s - loss: 0.0110 - acc: 0.9978 - val_loss: 0.8675 - val_acc: 0.8216\n",
      "Epoch 15/20\n",
      "6580/6680 [============================>.] - ETA: 0s - loss: 0.0101 - acc: 0.9979Epoch 00014: val_loss did not improve\n",
      "6680/6680 [==============================] - 1s - loss: 0.0100 - acc: 0.9979 - val_loss: 0.8668 - val_acc: 0.8132\n",
      "Epoch 16/20\n",
      "6500/6680 [============================>.] - ETA: 0s - loss: 0.0094 - acc: 0.9978Epoch 00015: val_loss did not improve\n",
      "6680/6680 [==============================] - 1s - loss: 0.0092 - acc: 0.9979 - val_loss: 0.9431 - val_acc: 0.8228\n",
      "Epoch 17/20\n",
      "6460/6680 [============================>.] - ETA: 0s - loss: 0.0076 - acc: 0.9981Epoch 00016: val_loss did not improve\n",
      "6680/6680 [==============================] - 1s - loss: 0.0074 - acc: 0.9982 - val_loss: 0.8889 - val_acc: 0.8335\n",
      "Epoch 18/20\n",
      "6500/6680 [============================>.] - ETA: 0s - loss: 0.0058 - acc: 0.9985Epoch 00017: val_loss did not improve\n",
      "6680/6680 [==============================] - 1s - loss: 0.0067 - acc: 0.9982 - val_loss: 0.8914 - val_acc: 0.8228\n",
      "Epoch 19/20\n",
      "6560/6680 [============================>.] - ETA: 0s - loss: 0.0064 - acc: 0.9989Epoch 00018: val_loss did not improve\n",
      "6680/6680 [==============================] - 1s - loss: 0.0063 - acc: 0.9990 - val_loss: 0.9730 - val_acc: 0.8144\n",
      "Epoch 20/20\n",
      "6460/6680 [============================>.] - ETA: 0s - loss: 0.0066 - acc: 0.9985Epoch 00019: val_loss did not improve\n",
      "6680/6680 [==============================] - 1s - loss: 0.0070 - acc: 0.9984 - val_loss: 0.9952 - val_acc: 0.8216\n"
     ]
    },
    {
     "data": {
      "text/plain": [
       "<keras.callbacks.History at 0x7f23a02b9438>"
      ]
     },
     "execution_count": 29,
     "metadata": {},
     "output_type": "execute_result"
    }
   ],
   "source": [
    "from keras.callbacks import ModelCheckpoint  \n",
    "\n",
    "checkpointer = ModelCheckpoint(filepath='saved_models/weights.best_adamax.ResNet50.hdf5', \n",
    "                               verbose=1, save_best_only=True)\n",
    "\n",
    "epochs = 30\n",
    "batch_size = 64\n",
    "\n",
    "ResNet_model.fit(train_ResNet50, train_targets, \n",
    "          validation_data=(valid_ResNet50, valid_targets),\n",
    "          epochs=epochs, batch_size=batch_size, callbacks=[checkpointer], verbose=1)"
   ]
  },
  {
   "cell_type": "code",
   "execution_count": null,
   "metadata": {},
   "outputs": [],
   "source": [
    "opt = Adamax(lr=0.0002)\n",
    "epochs = 5\n",
    "batch_size = 64\n",
    "\n",
    "ResNet_model.fit(train_ResNet50, train_targets, \n",
    "          validation_data=(valid_ResNet50, valid_targets),\n",
    "          epochs=epochs, batch_size=batch_size, callbacks=[checkpointer], verbose=1)"
   ]
  },
  {
   "cell_type": "markdown",
   "metadata": {},
   "source": [
    "### Load the Model with the Best Validation Loss"
   ]
  },
  {
   "cell_type": "code",
   "execution_count": 30,
   "metadata": {},
   "outputs": [],
   "source": [
    "### Load the model weights with the best validation loss.\n",
    "ResNet_model.load_weights('saved_models/weights.best_adamax.ResNet50.hdf5')"
   ]
  },
  {
   "cell_type": "markdown",
   "metadata": {},
   "source": [
    "### Test the Model\n",
    "\n",
    "Try out your model on the test dataset of dog images. Ensure that your test accuracy is greater than 60%."
   ]
  },
  {
   "cell_type": "code",
   "execution_count": 31,
   "metadata": {},
   "outputs": [
    {
     "name": "stdout",
     "output_type": "stream",
     "text": [
      "Test accuracy: 80.5024%\n"
     ]
    }
   ],
   "source": [
    "### TODO: Calculate classification accuracy on the test dataset.\n",
    "\n",
    "# get index of predicted dog breed for each image in test set\n",
    "ResNet50_predictions = [np.argmax(ResNet_model.predict(np.expand_dims(feature, axis=0))) for feature in test_ResNet50]\n",
    "\n",
    "# report test accuracy\n",
    "test_accuracy = 100*np.sum(np.array(ResNet50_predictions)==np.argmax(test_targets, axis=1))/len(ResNet50_predictions)\n",
    "print('Test accuracy: %.4f%%' % test_accuracy)"
   ]
  },
  {
   "cell_type": "markdown",
   "metadata": {},
   "source": [
    "### Predict Dog Breed with the Model\n",
    "\n",
    "Below I have written a function that takes an image path as an input and returns the dog breed name predicted by my mode.\n",
    "Similar to the analogous function in the Step4, the function has three steps:\n",
    "\n",
    "1. Extracting the bottleneck features corresponding to the chosen CNN model.\n",
    "2. Supply the bottleneck features as input to the model to return the predicted vector. Note that the argmax of this prediction vector gives the index of the predicted dog breed.\n",
    "3. Use the `dog_names` array defined in the Step0 of this notebook to return the corresponding breed.\n",
    "\n",
    "All the functions to extract bottleneck features can be imported from `extract_bottleneck_features.py`."
   ]
  },
  {
   "cell_type": "code",
   "execution_count": 104,
   "metadata": {},
   "outputs": [],
   "source": [
    "### This function takes a path to an image as input\n",
    "### and returns the dog breed that is predicted by the model.\n",
    "\n",
    "from extract_bottleneck_features import *\n",
    "\n",
    "def ResNet50_predict_breed(img_path):\n",
    "    # extract bottleneck features\n",
    "    bottleneck_feature = extract_Resnet50(path_to_tensor(img_path))\n",
    "    # obtain predicted vector\n",
    "    predicted_vector = ResNet_model.predict(bottleneck_feature)\n",
    "    # return dog breed that is predicted by the model\n",
    "    breed = dog_names[np.argmax(predicted_vector)]\n",
    "    img = cv2.imread(img_path)\n",
    "    cv_rgb = cv2.cvtColor(img, cv2.COLOR_BGR2RGB)\n",
    "    imgplot = plt.imshow(cv_rgb)\n",
    "    if dog_detector(img_path) == True:\n",
    "        return \"The breed of dog is a {}\".format(breed)\n",
    "    else:\n",
    "        return \"If this person were a dog, the breed would be a {}\".format(breed)"
   ]
  },
  {
   "cell_type": "markdown",
   "metadata": {},
   "source": [
    "### Testing the model on Validation set"
   ]
  },
  {
   "cell_type": "code",
   "execution_count": null,
   "metadata": {},
   "outputs": [],
   "source": [
    "#Testing on the Validation set\n",
    "file_num = 0\n",
    "print('Predicted by our model: {}.'.format(ResNet50_predict_breed(valid_files[file_num])))\n",
    "print('Actual Filename: {}.'.format(valid_files[file_num]))"
   ]
  },
  {
   "cell_type": "code",
   "execution_count": null,
   "metadata": {},
   "outputs": [],
   "source": [
    "#Testing on the Validation set\n",
    "file_num = 11\n",
    "print('Predicted by our model: {}.'.format(ResNet50_predict_breed(valid_files[file_num])))\n",
    "print('Actual Filename: {}.'.format(valid_files[file_num]))"
   ]
  },
  {
   "cell_type": "markdown",
   "metadata": {},
   "source": [
    "The model is able to correctly classify dog breeds!"
   ]
  },
  {
   "cell_type": "markdown",
   "metadata": {},
   "source": [
    "---\n",
    "<a id='step6'></a>\n",
    "## Step 6: Write Dog Classifier Algorithm\n",
    "\n",
    "Write an algorithm that accepts a file path to an image and first determines whether the image contains a human, dog, or neither.  Then,\n",
    "- if a __dog__ is detected in the image, return the predicted breed.\n",
    "- if a __human__ is detected in the image, return the resembling dog breed.\n",
    "- if __neither__ is detected in the image, provide output that indicates an error.\n",
    "\n",
    "You are welcome to write your own functions for detecting humans and dogs in images, but feel free to use the `face_detector` and `dog_detector` functions developed above.  You are __required__ to use your CNN from Step 5 to predict dog breed.  \n",
    "\n",
    "Some sample output for our algorithm is provided below, but feel free to design your own user experience!\n",
    "\n",
    "![Sample Human Output](images/sample_human_output.png)\n"
   ]
  },
  {
   "cell_type": "code",
   "execution_count": 105,
   "metadata": {},
   "outputs": [],
   "source": [
    "### TODO: Write your algorithm.\n",
    "### Feel free to use as many code cells as needed.\n",
    "import matplotlib.image as mpimg\n",
    "import matplotlib.pyplot as plt\n",
    "%matplotlib inline\n",
    "\n",
    "def dog_detector(img_path):\n",
    "    prediction = ResNet50_predict_labels(img_path)\n",
    "    return ((prediction <= 268) & (prediction >= 151)) \n",
    "\n",
    "def face_detector(img_path):\n",
    "    img = cv2.imread(img_path)\n",
    "    gray = cv2.cvtColor(img, cv2.COLOR_BGR2GRAY)\n",
    "    faces = face_cascade.detectMultiScale(gray)\n",
    "    return len(faces) > 0\n",
    "\n",
    "def predict_breed(img_path):\n",
    "    isDog = dog_detector(img_path)\n",
    "    isPerson = face_detector(img_path)\n",
    "    if isDog:\n",
    "        print(\"Detected a dog\")\n",
    "        breed = ResNet50_predict_breed(img_path)\n",
    "        return breed\n",
    "    if isPerson:\n",
    "        print(\"Detected a human face\")\n",
    "        breed = ResNet50_predict_breed(img_path)\n",
    "        return breed\n",
    "    else:\n",
    "        print(\"No human face or dog detected\")\n",
    "        img = cv2.imread(img_path)\n",
    "        cv_rgb = cv2.cvtColor(img, cv2.COLOR_BGR2RGB)\n",
    "        imgplot = plt.imshow(cv_rgb)"
   ]
  },
  {
   "cell_type": "markdown",
   "metadata": {},
   "source": [
    "---\n",
    "<a id='step7'></a>\n",
    "## Step 7: Test Your Algorithm\n",
    "\n",
    "In this section, you will take your new algorithm for a spin!  What kind of dog does the algorithm think that __you__ look like?  If you have a dog, does it predict your dog's breed accurately?  If you have a cat, does it mistakenly think that your cat is a dog?\n",
    "\n",
    "### (IMPLEMENTATION) Test Your Algorithm on Sample Images!\n",
    "\n",
    "Test your algorithm at least six images on your computer.  Feel free to use any images you like.  Use at least two human and two dog images.  \n",
    "\n",
    "__Question 6:__ Is the output better than you expected :) ?  Or worse :( ?  Provide at least three possible points of improvement for your algorithm.\n",
    "\n",
    "__Answer:__ "
   ]
  },
  {
   "cell_type": "code",
   "execution_count": null,
   "metadata": {
    "collapsed": true
   },
   "outputs": [],
   "source": [
    "## TODO: Execute your algorithm from Step 6 on\n",
    "## at least 6 images on your computer.\n",
    "## Feel free to use as many code cells as needed.\n"
   ]
  }
 ],
 "metadata": {
  "anaconda-cloud": {},
  "kernelspec": {
   "display_name": "Python 3",
   "language": "python",
   "name": "python3"
  },
  "language_info": {
   "codemirror_mode": {
    "name": "ipython",
    "version": 3
   },
   "file_extension": ".py",
   "mimetype": "text/x-python",
   "name": "python",
   "nbconvert_exporter": "python",
   "pygments_lexer": "ipython3",
   "version": "3.5.2"
  }
 },
 "nbformat": 4,
 "nbformat_minor": 1
}
